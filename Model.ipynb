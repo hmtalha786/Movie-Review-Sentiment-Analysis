{
 "cells": [
  {
   "cell_type": "markdown",
   "id": "bad50969",
   "metadata": {},
   "source": [
    "### Setting Up Libraries & Import"
   ]
  },
  {
   "cell_type": "code",
   "execution_count": 32,
   "id": "fa7d620e",
   "metadata": {},
   "outputs": [],
   "source": [
    "import numpy as np\n",
    "import pandas as pd\n",
    "import seaborn as sns\n",
    "import matplotlib.pyplot as plt"
   ]
  },
  {
   "cell_type": "code",
   "execution_count": 2,
   "id": "057c6dbd",
   "metadata": {},
   "outputs": [],
   "source": [
    "# Load the CSV file into a DataFrame\n",
    "df = pd.read_csv('IMDB Dataset.csv')"
   ]
  },
  {
   "cell_type": "code",
   "execution_count": 3,
   "id": "dc3bfc0f",
   "metadata": {},
   "outputs": [
    {
     "data": {
      "text/html": [
       "<div>\n",
       "<style scoped>\n",
       "    .dataframe tbody tr th:only-of-type {\n",
       "        vertical-align: middle;\n",
       "    }\n",
       "\n",
       "    .dataframe tbody tr th {\n",
       "        vertical-align: top;\n",
       "    }\n",
       "\n",
       "    .dataframe thead th {\n",
       "        text-align: right;\n",
       "    }\n",
       "</style>\n",
       "<table border=\"1\" class=\"dataframe\">\n",
       "  <thead>\n",
       "    <tr style=\"text-align: right;\">\n",
       "      <th></th>\n",
       "      <th>review</th>\n",
       "      <th>sentiment</th>\n",
       "    </tr>\n",
       "  </thead>\n",
       "  <tbody>\n",
       "    <tr>\n",
       "      <th>0</th>\n",
       "      <td>One of the other reviewers has mentioned that ...</td>\n",
       "      <td>positive</td>\n",
       "    </tr>\n",
       "    <tr>\n",
       "      <th>1</th>\n",
       "      <td>A wonderful little production. &lt;br /&gt;&lt;br /&gt;The...</td>\n",
       "      <td>positive</td>\n",
       "    </tr>\n",
       "    <tr>\n",
       "      <th>2</th>\n",
       "      <td>I thought this was a wonderful way to spend ti...</td>\n",
       "      <td>positive</td>\n",
       "    </tr>\n",
       "    <tr>\n",
       "      <th>3</th>\n",
       "      <td>Basically there's a family where a little boy ...</td>\n",
       "      <td>negative</td>\n",
       "    </tr>\n",
       "    <tr>\n",
       "      <th>4</th>\n",
       "      <td>Petter Mattei's \"Love in the Time of Money\" is...</td>\n",
       "      <td>positive</td>\n",
       "    </tr>\n",
       "  </tbody>\n",
       "</table>\n",
       "</div>"
      ],
      "text/plain": [
       "                                              review sentiment\n",
       "0  One of the other reviewers has mentioned that ...  positive\n",
       "1  A wonderful little production. <br /><br />The...  positive\n",
       "2  I thought this was a wonderful way to spend ti...  positive\n",
       "3  Basically there's a family where a little boy ...  negative\n",
       "4  Petter Mattei's \"Love in the Time of Money\" is...  positive"
      ]
     },
     "execution_count": 3,
     "metadata": {},
     "output_type": "execute_result"
    }
   ],
   "source": [
    "df.head(5)"
   ]
  },
  {
   "cell_type": "code",
   "execution_count": 4,
   "id": "be954af5",
   "metadata": {},
   "outputs": [
    {
     "data": {
      "text/plain": [
       "(50000, 2)"
      ]
     },
     "execution_count": 4,
     "metadata": {},
     "output_type": "execute_result"
    }
   ],
   "source": [
    "df.shape"
   ]
  },
  {
   "cell_type": "code",
   "execution_count": 5,
   "id": "a38adb0f",
   "metadata": {},
   "outputs": [
    {
     "data": {
      "text/html": [
       "<div>\n",
       "<style scoped>\n",
       "    .dataframe tbody tr th:only-of-type {\n",
       "        vertical-align: middle;\n",
       "    }\n",
       "\n",
       "    .dataframe tbody tr th {\n",
       "        vertical-align: top;\n",
       "    }\n",
       "\n",
       "    .dataframe thead th {\n",
       "        text-align: right;\n",
       "    }\n",
       "</style>\n",
       "<table border=\"1\" class=\"dataframe\">\n",
       "  <thead>\n",
       "    <tr style=\"text-align: right;\">\n",
       "      <th></th>\n",
       "      <th>review</th>\n",
       "      <th>sentiment</th>\n",
       "    </tr>\n",
       "  </thead>\n",
       "  <tbody>\n",
       "    <tr>\n",
       "      <th>count</th>\n",
       "      <td>50000</td>\n",
       "      <td>50000</td>\n",
       "    </tr>\n",
       "    <tr>\n",
       "      <th>unique</th>\n",
       "      <td>49582</td>\n",
       "      <td>2</td>\n",
       "    </tr>\n",
       "    <tr>\n",
       "      <th>top</th>\n",
       "      <td>Loved today's show!!! It was a variety and not...</td>\n",
       "      <td>positive</td>\n",
       "    </tr>\n",
       "    <tr>\n",
       "      <th>freq</th>\n",
       "      <td>5</td>\n",
       "      <td>25000</td>\n",
       "    </tr>\n",
       "  </tbody>\n",
       "</table>\n",
       "</div>"
      ],
      "text/plain": [
       "                                                   review sentiment\n",
       "count                                               50000     50000\n",
       "unique                                              49582         2\n",
       "top     Loved today's show!!! It was a variety and not...  positive\n",
       "freq                                                    5     25000"
      ]
     },
     "execution_count": 5,
     "metadata": {},
     "output_type": "execute_result"
    }
   ],
   "source": [
    "df.describe()"
   ]
  },
  {
   "cell_type": "code",
   "execution_count": 6,
   "id": "ce92389c",
   "metadata": {},
   "outputs": [
    {
     "data": {
      "text/plain": [
       "review       0\n",
       "sentiment    0\n",
       "dtype: int64"
      ]
     },
     "execution_count": 6,
     "metadata": {},
     "output_type": "execute_result"
    }
   ],
   "source": [
    "df.isnull().sum()"
   ]
  },
  {
   "cell_type": "code",
   "execution_count": 9,
   "id": "4f424c73",
   "metadata": {},
   "outputs": [
    {
     "data": {
      "text/plain": [
       "418"
      ]
     },
     "execution_count": 9,
     "metadata": {},
     "output_type": "execute_result"
    }
   ],
   "source": [
    "df.duplicated().sum()"
   ]
  },
  {
   "cell_type": "markdown",
   "id": "537683e8",
   "metadata": {},
   "source": [
    "### Text Preprocessing"
   ]
  },
  {
   "cell_type": "code",
   "execution_count": 11,
   "id": "7ed52c12",
   "metadata": {},
   "outputs": [],
   "source": [
    "from bs4 import BeautifulSoup\n",
    "import re\n",
    "import nltk\n",
    "from nltk.corpus import stopwords\n",
    "from nltk.stem import PorterStemmer"
   ]
  },
  {
   "cell_type": "code",
   "execution_count": 12,
   "id": "2fbaae97",
   "metadata": {},
   "outputs": [
    {
     "name": "stderr",
     "output_type": "stream",
     "text": [
      "[nltk_data] Downloading package stopwords to\n",
      "[nltk_data]     C:\\Users\\HMT\\AppData\\Roaming\\nltk_data...\n",
      "[nltk_data]   Package stopwords is already up-to-date!\n"
     ]
    },
    {
     "data": {
      "text/plain": [
       "True"
      ]
     },
     "execution_count": 12,
     "metadata": {},
     "output_type": "execute_result"
    }
   ],
   "source": [
    "# Download the stopwords dataset\n",
    "nltk.download('stopwords')"
   ]
  },
  {
   "cell_type": "code",
   "execution_count": 13,
   "id": "88624347",
   "metadata": {},
   "outputs": [
    {
     "name": "stderr",
     "output_type": "stream",
     "text": [
      "C:\\Users\\HMT\\AppData\\Local\\Temp\\ipykernel_12016\\648962121.py:5: MarkupResemblesLocatorWarning: The input looks more like a filename than markup. You may want to open this file and pass the filehandle into Beautiful Soup.\n",
      "  df['review'] = df['review'].apply(lambda x: BeautifulSoup(x, 'html.parser').get_text())\n"
     ]
    }
   ],
   "source": [
    "# Step 1: Convert all values in the DataFrame to lowercase\n",
    "df = df.apply(lambda x: x.astype(str).str.lower())\n",
    "\n",
    "# Step 2: Remove HTML tags from the 'review' column\n",
    "df['review'] = df['review'].apply(lambda x: BeautifulSoup(x, 'html.parser').get_text())\n",
    "\n",
    "# Step 3: Remove square brackets and their content\n",
    "df['review'] = df['review'].apply(lambda x: re.sub(r'\\[.*?\\]', '', x))\n",
    "\n",
    "# Step 4: Remove special characters\n",
    "df['review'] = df['review'].apply(lambda x: re.sub(r'[^A-Za-z0-9\\s]', '', x))\n",
    "\n",
    "# Step 5: Remove English stopwords\n",
    "stop_words = set(stopwords.words('english'))\n",
    "df['review'] = df['review'].apply(lambda x: ' '.join([word for word in x.split() if word not in stop_words]))\n",
    "\n",
    "# Step 6: Perform text stemming\n",
    "stemmer = PorterStemmer()\n",
    "df['review'] = df['review'].apply(lambda x: ' '.join([stemmer.stem(word) for word in x.split()]))"
   ]
  },
  {
   "cell_type": "code",
   "execution_count": 16,
   "id": "cd7850b5",
   "metadata": {},
   "outputs": [
    {
     "data": {
      "text/plain": [
       "0        one review mention watch 1 oz episod youll hoo...\n",
       "1        wonder littl product film techniqu unassum old...\n",
       "2        thought wonder way spend time hot summer weeke...\n",
       "3        basic there famili littl boy jake think there ...\n",
       "4        petter mattei love time money visual stun film...\n",
       "                               ...                        \n",
       "49995    thought movi right good job wasnt creativ orig...\n",
       "49996    bad plot bad dialogu bad act idiot direct anno...\n",
       "49997    cathol taught parochi elementari school nun ta...\n",
       "49998    im go disagre previou comment side maltin one ...\n",
       "49999    one expect star trek movi high art fan expect ...\n",
       "Name: review, Length: 50000, dtype: object"
      ]
     },
     "execution_count": 16,
     "metadata": {},
     "output_type": "execute_result"
    }
   ],
   "source": [
    "df['review']"
   ]
  },
  {
   "cell_type": "markdown",
   "id": "5bd6ed1d",
   "metadata": {},
   "source": [
    "### Vectorization"
   ]
  },
  {
   "cell_type": "code",
   "execution_count": 17,
   "id": "deae2a78",
   "metadata": {},
   "outputs": [],
   "source": [
    "from sklearn.feature_extraction.text import CountVectorizer"
   ]
  },
  {
   "cell_type": "code",
   "execution_count": 18,
   "id": "919025fb",
   "metadata": {},
   "outputs": [],
   "source": [
    "# Apply CountVectorizer\n",
    "vectorizer = CountVectorizer()\n",
    "X = vectorizer.fit_transform(df['review'])"
   ]
  },
  {
   "cell_type": "markdown",
   "id": "745f7023",
   "metadata": {},
   "source": [
    "### Train Test Split"
   ]
  },
  {
   "cell_type": "code",
   "execution_count": 19,
   "id": "4427f1e1",
   "metadata": {},
   "outputs": [],
   "source": [
    "from sklearn.model_selection import train_test_split"
   ]
  },
  {
   "cell_type": "code",
   "execution_count": 20,
   "id": "60c5cb98",
   "metadata": {},
   "outputs": [],
   "source": [
    "# Split the data into training and testing sets\n",
    "X_train, X_test, y_train, y_test = train_test_split(X, df['sentiment'], test_size=0.2, random_state=42)"
   ]
  },
  {
   "cell_type": "markdown",
   "id": "dfcfbd74",
   "metadata": {},
   "source": [
    "### Implementing Naive Bayes models ( Multinomial , Gaussian, Bernoulli Naive Bayes)"
   ]
  },
  {
   "cell_type": "code",
   "execution_count": 27,
   "id": "1f00a30e",
   "metadata": {},
   "outputs": [],
   "source": [
    "from sklearn.naive_bayes import MultinomialNB, GaussianNB, BernoulliNB\n",
    "\n",
    "from sklearn.metrics import confusion_matrix, classification_report"
   ]
  },
  {
   "cell_type": "markdown",
   "id": "17dfa3a8",
   "metadata": {},
   "source": [
    "##### Multinomial Naive Bayes"
   ]
  },
  {
   "cell_type": "code",
   "execution_count": 25,
   "id": "4acd22cc",
   "metadata": {},
   "outputs": [],
   "source": [
    "# Implement the model\n",
    "multinomial_nb_model = MultinomialNB()\n",
    "\n",
    "# Fit the model\n",
    "multinomial_nb_model.fit(X_train, y_train)\n",
    "\n",
    "# Make prediction\n",
    "multinomial_nb_pred = multinomial_nb_model.predict(X_test)"
   ]
  },
  {
   "cell_type": "code",
   "execution_count": 33,
   "id": "c35ad65e",
   "metadata": {},
   "outputs": [
    {
     "data": {
      "image/png": "[encoded data removed]",
      "text/plain": [
       "<Figure size 640x480 with 2 Axes>"
      ]
     },
     "metadata": {},
     "output_type": "display_data"
    }
   ],
   "source": [
    "# Confusion matrix\n",
    "conf_matrix = confusion_matrix(y_test, multinomial_nb_pred)\n",
    "\n",
    "# Display confusion matrix as a heatmap\n",
    "sns.heatmap(conf_matrix, annot=True, fmt='d', xticklabels=multinomial_nb_model.classes_, yticklabels=multinomial_nb_model.classes_)\n",
    "plt.xlabel('Predicted Labels')\n",
    "plt.ylabel('True Labels')\n",
    "plt.title('Confusion Matrix')\n",
    "plt.show()"
   ]
  },
  {
   "cell_type": "code",
   "execution_count": 34,
   "id": "cad6f62b",
   "metadata": {},
   "outputs": [
    {
     "name": "stdout",
     "output_type": "stream",
     "text": [
      "Multinomial Naive Bayes Classification Report:\n",
      "               precision    recall  f1-score   support\n",
      "\n",
      "    negative       0.84      0.87      0.86      4961\n",
      "    positive       0.87      0.84      0.86      5039\n",
      "\n",
      "    accuracy                           0.86     10000\n",
      "   macro avg       0.86      0.86      0.86     10000\n",
      "weighted avg       0.86      0.86      0.86     10000\n",
      "\n"
     ]
    }
   ],
   "source": [
    "# Compare classification reports\n",
    "print(\"Multinomial Naive Bayes Classification Report:\\n\", classification_report(y_test, multinomial_nb_pred))"
   ]
  },
  {
   "cell_type": "markdown",
   "id": "3c5dc310",
   "metadata": {},
   "source": [
    "##### Bernoulli Naive Bayes"
   ]
  },
  {
   "cell_type": "code",
   "execution_count": 26,
   "id": "82e4e169",
   "metadata": {},
   "outputs": [],
   "source": [
    "# Implement the model\n",
    "bernoulli_nb_model = BernoulliNB()\n",
    "\n",
    "# Fit the model\n",
    "bernoulli_nb_model.fit(X_train, y_train)\n",
    "\n",
    "# Make prediction\n",
    "bernoulli_nb_pred = bernoulli_nb_model.predict(X_test)"
   ]
  },
  {
   "cell_type": "code",
   "execution_count": 35,
   "id": "f89286cf",
   "metadata": {},
   "outputs": [
    {
     "data": {
      "image/png": "[encoded data removed]",
      "text/plain": [
       "<Figure size 640x480 with 2 Axes>"
      ]
     },
     "metadata": {},
     "output_type": "display_data"
    }
   ],
   "source": [
    "# Confusion matrix\n",
    "conf_matrix = confusion_matrix(y_test, bernoulli_nb_pred)\n",
    "\n",
    "# Display confusion matrix as a heatmap\n",
    "sns.heatmap(conf_matrix, annot=True, fmt='d', xticklabels=bernoulli_nb_model.classes_, yticklabels=bernoulli_nb_model.classes_)\n",
    "plt.xlabel('Predicted Labels')\n",
    "plt.ylabel('True Labels')\n",
    "plt.title('Confusion Matrix')\n",
    "plt.show()"
   ]
  },
  {
   "cell_type": "code",
   "execution_count": 36,
   "id": "481f747e",
   "metadata": {},
   "outputs": [
    {
     "name": "stdout",
     "output_type": "stream",
     "text": [
      "\n",
      "Bernoulli Naive Bayes Classification Report:\n",
      "               precision    recall  f1-score   support\n",
      "\n",
      "    negative       0.83      0.87      0.85      4961\n",
      "    positive       0.87      0.83      0.85      5039\n",
      "\n",
      "    accuracy                           0.85     10000\n",
      "   macro avg       0.85      0.85      0.85     10000\n",
      "weighted avg       0.85      0.85      0.85     10000\n",
      "\n"
     ]
    }
   ],
   "source": [
    "# Compare classification reports\n",
    "print(\"\\nBernoulli Naive Bayes Classification Report:\\n\", classification_report(y_test, bernoulli_nb_pred))"
   ]
  },
  {
   "cell_type": "markdown",
   "id": "1dc7affd",
   "metadata": {},
   "source": [
    "##### Gaussian Naive Bayes"
   ]
  },
  {
   "cell_type": "code",
   "execution_count": 39,
   "id": "c9405e7c",
   "metadata": {},
   "outputs": [],
   "source": [
    "from sklearn.decomposition import TruncatedSVD\n",
    "\n",
    "# Apply CountVectorizer\n",
    "vectorizer = CountVectorizer()\n",
    "X = vectorizer.fit_transform(df['review'])\n",
    "\n",
    "# Apply TruncatedSVD to reduce dimensionality\n",
    "svd = TruncatedSVD(n_components=500)  # You can adjust the number of components based on available memory\n",
    "X_svd = svd.fit_transform(X)\n",
    "\n",
    "# Split the data into training and testing sets\n",
    "X_train, X_test, y_train, y_test = train_test_split(X_svd, df['sentiment'], test_size=0.2, random_state=42)\n",
    "\n",
    "# Implement Gaussian Naive Bayes model\n",
    "gaussian_nb_model = GaussianNB()\n",
    "\n",
    "# Fit the model\n",
    "gaussian_nb_model.fit(X_train, y_train)\n",
    "\n",
    "# Make predictions\n",
    "gaussian_nb_pred = gaussian_nb_model.predict(X_test)"
   ]
  },
  {
   "cell_type": "code",
   "execution_count": 40,
   "id": "62b8549a",
   "metadata": {},
   "outputs": [
    {
     "data": {
      "image/png": "[encoded data removed]",
      "text/plain": [
       "<Figure size 640x480 with 2 Axes>"
      ]
     },
     "metadata": {},
     "output_type": "display_data"
    }
   ],
   "source": [
    "# Confusion matrix\n",
    "conf_matrix = confusion_matrix(y_test, gaussian_nb_pred)\n",
    "\n",
    "# Display confusion matrix as a heatmap\n",
    "sns.heatmap(conf_matrix, annot=True, fmt='d', xticklabels=gaussian_nb_model.classes_, yticklabels=gaussian_nb_model.classes_)\n",
    "plt.xlabel('Predicted Labels')\n",
    "plt.ylabel('True Labels')\n",
    "plt.title('Confusion Matrix')\n",
    "plt.show()"
   ]
  },
  {
   "cell_type": "code",
   "execution_count": 41,
   "id": "a30dd7b3",
   "metadata": {},
   "outputs": [
    {
     "name": "stdout",
     "output_type": "stream",
     "text": [
      "\n",
      "Gaussian Naive Bayes Classification Report:\n",
      "               precision    recall  f1-score   support\n",
      "\n",
      "    negative       0.52      0.75      0.61      4961\n",
      "    positive       0.56      0.32      0.40      5039\n",
      "\n",
      "    accuracy                           0.53     10000\n",
      "   macro avg       0.54      0.53      0.51     10000\n",
      "weighted avg       0.54      0.53      0.51     10000\n",
      "\n"
     ]
    }
   ],
   "source": [
    "# Compare classification reports\n",
    "print(\"\\nGaussian Naive Bayes Classification Report:\\n\", classification_report(y_test, gaussian_nb_pred))"
   ]
  },
  {
   "cell_type": "markdown",
   "id": "82329aaf",
   "metadata": {},
   "source": [
    "### Model Evaluation on Multinomial NB Model"
   ]
  },
  {
   "cell_type": "code",
   "execution_count": 44,
   "id": "5647a7cd",
   "metadata": {},
   "outputs": [],
   "source": [
    "def preprocess_and_predict_sentiment(review):\n",
    "    # Preprocess the given review\n",
    "    review_lower = review.lower()\n",
    "    review_no_html = BeautifulSoup(review_lower, 'html.parser').get_text()\n",
    "    review_no_brackets = re.sub(r'\\[.*?\\]', '', review_no_html)\n",
    "    review_no_special_chars = re.sub(r'[^A-Za-z0-9\\s]', '', review_no_brackets)\n",
    "    review_no_stopwords = ' '.join([word for word in review_no_special_chars.split() if word not in stop_words])\n",
    "    review_stemmed = ' '.join([stemmer.stem(word) for word in review_no_stopwords.split()])\n",
    "\n",
    "    # Vectorize the preprocessed review\n",
    "    vectorized_review = vectorizer.transform([review_stemmed])\n",
    "\n",
    "    # Predict sentiment using Multinomial Naive Bayes model\n",
    "    prediction = multinomial_nb_model.predict(vectorized_review)\n",
    "\n",
    "    return prediction"
   ]
  },
  {
   "cell_type": "code",
   "execution_count": 45,
   "id": "318f9bf8",
   "metadata": {},
   "outputs": [
    {
     "name": "stdout",
     "output_type": "stream",
     "text": [
      "Predicted Sentiment:  ['positive']\n"
     ]
    }
   ],
   "source": [
    "# Given review\n",
    "given_review = \"I saw this few days back. To be honest I wasn't even aware that such a movie existed. It was only when this was sent as an official entry from India n it was all ov the news, that I came to kno of its existence. Maybe the movie wasn't advertised or marketed well. It is such an awesome movie that I find it a crime that this movie wasn't known to me. The movie is about the 2018 Kerala floods n how people helped total strangers, showcasing that humanity exist specially in the southern states of India otherwise the cow belt n other regions in India are notorious for Christians, Muslims n Dalits persecutions. The background song is very touching n the background music is mesmerizing.The character Anoop will stay with u for a long time. So will the fisherman family n Nixon.\"\n",
    "\n",
    "# Call the function\n",
    "predicted_sentiment = preprocess_and_predict_sentiment(given_review)\n",
    "\n",
    "print(\"Predicted Sentiment: \", predicted_sentiment)"
   ]
  },
  {
   "cell_type": "code",
   "execution_count": 46,
   "id": "ae80dfdf",
   "metadata": {},
   "outputs": [
    {
     "name": "stdout",
     "output_type": "stream",
     "text": [
      "Predicted Sentiment:  ['negative']\n"
     ]
    }
   ],
   "source": [
    "# Given review\n",
    "given_review = \"I recently watched this movie, and it was a complete disappointment. The storyline was confusing, and the characters were poorly developed. The acting was subpar, making it difficult to connect with any of the characters emotionally. The cinematography was lackluster, with uninspiring visuals and dull scenes. The pacing of the movie was off, making it feel dragged out and boring. Overall, it's one of the worst movies I've seen in a while, and I wouldn't recommend it to anyone.\"\n",
    "\n",
    "# Call the function\n",
    "predicted_sentiment = preprocess_and_predict_sentiment(given_review)\n",
    "\n",
    "print(\"Predicted Sentiment: \", predicted_sentiment)"
   ]
  },
  {
   "cell_type": "code",
   "execution_count": null,
   "id": "a3e83c02",
   "metadata": {},
   "outputs": [],
   "source": []
  }
 ],
 "metadata": {
  "kernelspec": {
   "display_name": "Python 3 (ipykernel)",
   "language": "python",
   "name": "python3"
  },
  "language_info": {
   "codemirror_mode": {
    "name": "ipython",
    "version": 3
   },
   "file_extension": ".py",
   "mimetype": "text/x-python",
   "name": "python",
   "nbconvert_exporter": "python",
   "pygments_lexer": "ipython3",
   "version": "3.11.5"
  }
 },
 "nbformat": 4,
 "nbformat_minor": 5
}
